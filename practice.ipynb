{
 "cells": [
  {
   "cell_type": "code",
   "execution_count": 1,
   "metadata": {},
   "outputs": [],
   "source": [
    "import pandas\n",
    "import os"
   ]
  },
  {
   "cell_type": "code",
   "execution_count": 2,
   "metadata": {},
   "outputs": [],
   "source": [
    "data = {'DEVICE ID':[\"\"],\n",
    "        \"ADB ID\":[\"\"],\n",
    "        \"CARRIER\":[\"\"],\n",
    "        \"PH. NUMBER\":[\"\"],\n",
    "        \"CALL TO NO.\":[\"\"],\n",
    "        \"BUILD ID\":[\"\"],\n",
    "        \"SCENARIO\":[\"\"],\n",
    "        \"MARKET\":[\"\"],\n",
    "        \"TESTER NAME\":[\"\"]}"
   ]
  },
  {
   "cell_type": "code",
   "execution_count": 3,
   "metadata": {},
   "outputs": [],
   "source": [
    "def set_data(device_id, adb_id, operator_name, phone_no, call_to_no, build_id, scenario, market, tester_name):\n",
    "    data[\"ADB ID\"] = [adb_id]\n",
    "    data[\"DEVICE ID\"] = [device_id]\n",
    "    data[\"CARRIER\"] = [operator_name]\n",
    "    data[\"PH. NUMBER\"] = [phone_no]\n",
    "    data[\"CALL TO NO.\"] = [call_to_no]\n",
    "    data[\"BUILD ID\"] = [build_id]\n",
    "    data[\"SCENARIO\"] = [scenario]\n",
    "    data[\"MARKET\"] = [market]\n",
    "    data[\"TESTER NAME\"] = [tester_name]\n",
    "    return data"
   ]
  },
  {
   "cell_type": "code",
   "execution_count": 4,
   "metadata": {},
   "outputs": [],
   "source": [
    "def update(device_id, adb_id, operator_name, phone_no, call_to_no, build_id, scenario, market, tester_name):\n",
    "    data = set_data(device_id, adb_id, operator_name, phone_no, call_to_no, build_id, scenario, market, tester_name)\n",
    "    db = connect()\n",
    "    df1 = pandas.DataFrame(data)\n",
    "    df1.set_index(['ADB ID'], inplace=True, drop=True)\n",
    "    if adb_id in db.index:\n",
    "        db.loc[adb_id] = df1.loc[adb_id]\n",
    "    else:\n",
    "        db = pandas.concat([db, df1], sort=False)\n",
    "    db.to_csv('database.csv')\n",
    "    return db\n",
    "\n",
    "\n",
    "def view():\n",
    "    db = connect()\n",
    "    return db\n"
   ]
  },
  {
   "cell_type": "code",
   "execution_count": 5,
   "metadata": {},
   "outputs": [],
   "source": [
    "def delete(adb_id=''):\n",
    "    db = connect()\n",
    "    if adb_id in db.index:\n",
    "        db = db.drop([adb_id])\n",
    "    db.to_csv('database.csv')\n",
    "    return db\n"
   ]
  },
  {
   "cell_type": "code",
   "execution_count": 6,
   "metadata": {},
   "outputs": [],
   "source": [
    "def create_csv():\n",
    "    cols=[\"ADB ID\",\"DEVICE ID\",\"CARRIER\",\"PH. NUMBER\",\"CALL TO NO.\",\"BUILD ID\",\"SCENARIO\",\"MARKET\",\"TESTER NAME\"]\n",
    "    f = open(\"database.csv\", \"w+\")\n",
    "    for i,item in enumerate(cols):\n",
    "        if i+1<len(cols):\n",
    "            f.write(\"{},\".format(item))\n",
    "        else:\n",
    "            f.write(item)\n",
    "    f.close()\n"
   ]
  },
  {
   "cell_type": "code",
   "execution_count": 7,
   "metadata": {},
   "outputs": [],
   "source": [
    "def connect():\n",
    "    if not os.path.exists(\"database.csv\"):\n",
    "        create_csv()\n",
    "    db = pandas.read_csv(\"database.csv\")\n",
    "    db.set_index([\"ADB ID\"],inplace=True,drop=True)\n",
    "    return db\n"
   ]
  },
  {
   "cell_type": "code",
   "execution_count": 8,
   "metadata": {},
   "outputs": [
    {
     "data": {
      "text/html": "<div>\n<style scoped>\n    .dataframe tbody tr th:only-of-type {\n        vertical-align: middle;\n    }\n\n    .dataframe tbody tr th {\n        vertical-align: top;\n    }\n\n    .dataframe thead th {\n        text-align: right;\n    }\n</style>\n<table border=\"1\" class=\"dataframe\">\n  <thead>\n    <tr style=\"text-align: right;\">\n      <th></th>\n      <th>DEVICE ID</th>\n      <th>CARRIER</th>\n      <th>PH. NUMBER</th>\n      <th>CALL TO NO.</th>\n      <th>BUILD ID</th>\n      <th>SCENARIO</th>\n      <th>MARKET</th>\n      <th>TESTER NAME</th>\n    </tr>\n    <tr>\n      <th>ADB ID</th>\n      <th></th>\n      <th></th>\n      <th></th>\n      <th></th>\n      <th></th>\n      <th></th>\n      <th></th>\n      <th></th>\n    </tr>\n  </thead>\n  <tbody>\n    <tr>\n      <th>9735474a</th>\n      <td>N10PRDTVR</td>\n      <td>TMO</td>\n      <td>4255899346</td>\n      <td>4256134362</td>\n      <td>SM8250-SDX55LA-945-HI-c9-169</td>\n      <td>SMARTEST</td>\n      <td>LV-mmW</td>\n      <td>SHADMAAN</td>\n    </tr>\n    <tr>\n      <th>9710474a</th>\n      <td>N10PRDTVB</td>\n      <td>TMO</td>\n      <td>4253899346</td>\n      <td>4256145362</td>\n      <td>SM8250-SDX55LA-945-HI-c9-169</td>\n      <td>SMARTEST</td>\n      <td>LV-mmW</td>\n      <td>SHADMAAN</td>\n    </tr>\n  </tbody>\n</table>\n</div>",
      "text/plain": "          DEVICE ID CARRIER  PH. NUMBER CALL TO NO.  \\\nADB ID                                                \n9735474a  N10PRDTVR     TMO  4255899346  4256134362   \n9710474a  N10PRDTVB     TMO  4253899346  4256145362   \n\n                              BUILD ID  SCENARIO  MARKET TESTER NAME  \nADB ID                                                                \n9735474a  SM8250-SDX55LA-945-HI-c9-169  SMARTEST  LV-mmW    SHADMAAN  \n9710474a  SM8250-SDX55LA-945-HI-c9-169  SMARTEST  LV-mmW    SHADMAAN  "
     },
     "execution_count": 8,
     "metadata": {},
     "output_type": "execute_result"
    }
   ],
   "source": [
    "update(\"N10PRDTVB\",\"9710474a\",\"TMO\",\"4253899346\",\"4256145362\",\"SM8250-SDX55LA-945-HI-c9-169\",\"SMARTEST\",\"LV-mmW\",\"SHADMAAN\")"
   ]
  },
  {
   "cell_type": "code",
   "execution_count": 9,
   "metadata": {},
   "outputs": [],
   "source": [
    "db = view()"
   ]
  },
  {
   "cell_type": "code",
   "execution_count": 10,
   "metadata": {},
   "outputs": [
    {
     "data": {
      "text/html": "<div>\n<style scoped>\n    .dataframe tbody tr th:only-of-type {\n        vertical-align: middle;\n    }\n\n    .dataframe tbody tr th {\n        vertical-align: top;\n    }\n\n    .dataframe thead th {\n        text-align: right;\n    }\n</style>\n<table border=\"1\" class=\"dataframe\">\n  <thead>\n    <tr style=\"text-align: right;\">\n      <th></th>\n      <th>DEVICE ID</th>\n      <th>CARRIER</th>\n      <th>PH. NUMBER</th>\n      <th>CALL TO NO.</th>\n      <th>BUILD ID</th>\n      <th>SCENARIO</th>\n      <th>MARKET</th>\n      <th>TESTER NAME</th>\n    </tr>\n    <tr>\n      <th>ADB ID</th>\n      <th></th>\n      <th></th>\n      <th></th>\n      <th></th>\n      <th></th>\n      <th></th>\n      <th></th>\n      <th></th>\n    </tr>\n  </thead>\n  <tbody>\n    <tr>\n      <th>9735474a</th>\n      <td>N10PRDTVR</td>\n      <td>TMO</td>\n      <td>4255899346</td>\n      <td>4256134362</td>\n      <td>SM8250-SDX55LA-945-HI-c9-169</td>\n      <td>SMARTEST</td>\n      <td>LV-mmW</td>\n      <td>SHADMAAN</td>\n    </tr>\n    <tr>\n      <th>9710474a</th>\n      <td>N10PRDTVB</td>\n      <td>TMO</td>\n      <td>4253899346</td>\n      <td>4256145362</td>\n      <td>SM8250-SDX55LA-945-HI-c9-169</td>\n      <td>SMARTEST</td>\n      <td>LV-mmW</td>\n      <td>SHADMAAN</td>\n    </tr>\n  </tbody>\n</table>\n</div>",
      "text/plain": "          DEVICE ID CARRIER  PH. NUMBER  CALL TO NO.  \\\nADB ID                                                 \n9735474a  N10PRDTVR     TMO  4255899346   4256134362   \n9710474a  N10PRDTVB     TMO  4253899346   4256145362   \n\n                              BUILD ID  SCENARIO  MARKET TESTER NAME  \nADB ID                                                                \n9735474a  SM8250-SDX55LA-945-HI-c9-169  SMARTEST  LV-mmW    SHADMAAN  \n9710474a  SM8250-SDX55LA-945-HI-c9-169  SMARTEST  LV-mmW    SHADMAAN  "
     },
     "execution_count": 10,
     "metadata": {},
     "output_type": "execute_result"
    }
   ],
   "source": [
    "db"
   ]
  },
  {
   "cell_type": "code",
   "execution_count": 11,
   "metadata": {},
   "outputs": [
    {
     "data": {
      "text/html": "<div>\n<style scoped>\n    .dataframe tbody tr th:only-of-type {\n        vertical-align: middle;\n    }\n\n    .dataframe tbody tr th {\n        vertical-align: top;\n    }\n\n    .dataframe thead th {\n        text-align: right;\n    }\n</style>\n<table border=\"1\" class=\"dataframe\">\n  <thead>\n    <tr style=\"text-align: right;\">\n      <th></th>\n      <th>DEVICE ID</th>\n      <th>CARRIER</th>\n      <th>PH. NUMBER</th>\n      <th>CALL TO NO.</th>\n      <th>BUILD ID</th>\n      <th>SCENARIO</th>\n      <th>MARKET</th>\n      <th>TESTER NAME</th>\n    </tr>\n    <tr>\n      <th>ADB ID</th>\n      <th></th>\n      <th></th>\n      <th></th>\n      <th></th>\n      <th></th>\n      <th></th>\n      <th></th>\n      <th></th>\n    </tr>\n  </thead>\n  <tbody>\n    <tr>\n      <th>9735474a</th>\n      <td>N10PRDTVR</td>\n      <td>TMO</td>\n      <td>4255899346</td>\n      <td>4256134362</td>\n      <td>SM8250-SDX55LA-945-HI-c9-169</td>\n      <td>SMARTEST</td>\n      <td>LV-mmW</td>\n      <td>SHADMAAN</td>\n    </tr>\n    <tr>\n      <th>9710474a</th>\n      <td>N10PRDTVB</td>\n      <td>TMO</td>\n      <td>4253899346</td>\n      <td>4256145362</td>\n      <td>SM8250-SDX55LA-945-HI-c9-169</td>\n      <td>SMARTEST</td>\n      <td>LV-mmW</td>\n      <td>SHADMAAN</td>\n    </tr>\n  </tbody>\n</table>\n</div>",
      "text/plain": "          DEVICE ID CARRIER  PH. NUMBER CALL TO NO.  \\\nADB ID                                                \n9735474a  N10PRDTVR     TMO  4255899346  4256134362   \n9710474a  N10PRDTVB     TMO  4253899346  4256145362   \n\n                              BUILD ID  SCENARIO  MARKET TESTER NAME  \nADB ID                                                                \n9735474a  SM8250-SDX55LA-945-HI-c9-169  SMARTEST  LV-mmW    SHADMAAN  \n9710474a  SM8250-SDX55LA-945-HI-c9-169  SMARTEST  LV-mmW    SHADMAAN  "
     },
     "execution_count": 11,
     "metadata": {},
     "output_type": "execute_result"
    }
   ],
   "source": [
    "update(\"N10PRDTVR\",\"9735474a\",\"TMO\",\"4255899346\",\"4256134362\",\"SM8250-SDX55LA-945-HI-c9-169\",\"SMARTEST\",\"LV-mmW\",\"SHADMAAN\")"
   ]
  },
  {
   "cell_type": "code",
   "execution_count": 12,
   "metadata": {},
   "outputs": [],
   "source": [
    "db=view()"
   ]
  },
  {
   "cell_type": "code",
   "execution_count": 13,
   "metadata": {},
   "outputs": [
    {
     "name": "stdout",
     "output_type": "stream",
     "text": "['9735474a' 'N10PRDTVR' 'TMO' 4255899346 4256134362\n 'SM8250-SDX55LA-945-HI-c9-169' 'SMARTEST' 'LV-mmW' 'SHADMAAN']\n===========================\n('9735474a', 'N10PRDTVR', 'TMO', 4255899346, 4256134362, 'SM8250-SDX55LA-945-HI-c9-169', 'SMARTEST', 'LV-mmW', 'SHADMAAN')\n===========================\n['9710474a' 'N10PRDTVB' 'TMO' 4253899346 4256145362\n 'SM8250-SDX55LA-945-HI-c9-169' 'SMARTEST' 'LV-mmW' 'SHADMAAN']\n===========================\n('9710474a', 'N10PRDTVB', 'TMO', 4253899346, 4256145362, 'SM8250-SDX55LA-945-HI-c9-169', 'SMARTEST', 'LV-mmW', 'SHADMAAN')\n===========================\n"
    }
   ],
   "source": [
    "for adbs in db.reset_index().values:\n",
    "    print(adbs)\n",
    "    print('===========================')\n",
    "    print(tuple(adbs))\n",
    "    print('===========================')"
   ]
  },
  {
   "cell_type": "code",
   "execution_count": 14,
   "metadata": {},
   "outputs": [],
   "source": [
    "my_list = ['63f9ddde','N10PVHLRL','TMO',\"4253890913\",\"8586105350\",\"SM8250-SDX55LA-945-HI-c9-167\",'SMARTEST','LV-mmW','SHADMAAN']"
   ]
  },
  {
   "cell_type": "code",
   "execution_count": 15,
   "metadata": {},
   "outputs": [
    {
     "data": {
      "text/plain": "('63f9ddde',\n 'N10PVHLRL',\n 'TMO',\n '4253890913',\n '8586105350',\n 'SM8250-SDX55LA-945-HI-c9-167',\n 'SMARTEST',\n 'LV-mmW',\n 'SHADMAAN')"
     },
     "execution_count": 15,
     "metadata": {},
     "output_type": "execute_result"
    }
   ],
   "source": [
    "tuple(my_list)"
   ]
  },
  {
   "cell_type": "code",
   "execution_count": 16,
   "metadata": {},
   "outputs": [],
   "source": [
    "cols=[\"DEVICE ID\",\"ADB ID\",\"CARRIER\",\"PH. NUMBER\",\"CALL TO NO.\",\"BUILD ID\",\"SCENARIO\",\"MARKET\",\"TESTER NAME\"]\n",
    "\n",
    "\n",
    "def create_csv():\n",
    "    f = open(\"C:\\\\TOOLS\\\\CRASHES\\\\db-updater\\\\database.csv\", \"w+\")\n",
    "    for i,item in enumerate(cols):\n",
    "        if i+1<len(cols):\n",
    "            f.write(\"{},\".format(item))\n",
    "        else:\n",
    "            f.write(item)\n",
    "    f.close()\n"
   ]
  },
  {
   "cell_type": "code",
   "execution_count": null,
   "metadata": {},
   "outputs": [],
   "source": []
  }
 ],
 "metadata": {
  "kernelspec": {
   "display_name": "Python 3",
   "language": "python",
   "name": "python3"
  },
  "language_info": {
   "codemirror_mode": {
    "name": "ipython",
    "version": 3
   },
   "file_extension": ".py",
   "mimetype": "text/x-python",
   "name": "python",
   "nbconvert_exporter": "python",
   "pygments_lexer": "ipython3",
   "version": "3.8.1-final"
  }
 },
 "nbformat": 4,
 "nbformat_minor": 4
}