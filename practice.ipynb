{
 "cells": [
  {
   "cell_type": "code",
   "execution_count": 13,
   "metadata": {},
   "outputs": [],
   "source": [
    "import pandas\n",
    "import os"
   ]
  },
  {
   "cell_type": "code",
   "execution_count": 3,
   "metadata": {},
   "outputs": [],
   "source": [
    "data = {'DEVICE ID':[\"\"],\n",
    "        \"ADB ID\":[\"\"],\n",
    "        \"CARRIER\":[\"\"],\n",
    "        \"PH. NUMBER\":[\"\"],\n",
    "        \"CALL TO NO.\":[\"\"],\n",
    "        \"BUILD ID\":[\"\"],\n",
    "        \"SCENARIO\":[\"\"],\n",
    "        \"MARKET\":[\"\"],\n",
    "        \"TESTER NAME\":[\"\"]}"
   ]
  },
  {
   "cell_type": "code",
   "execution_count": 7,
   "metadata": {},
   "outputs": [],
   "source": [
    "def set_data(device_id, adb_id, operator_name, phone_no, call_to_no, build_id, scenario, market, tester_name):\n",
    "    data[\"ADB ID\"] = [adb_id]\n",
    "    data[\"DEVICE ID\"] = [device_id]\n",
    "    data[\"CARRIER\"] = [operator_name]\n",
    "    data[\"PH. NUMBER\"] = [phone_no]\n",
    "    data[\"CALL TO NO.\"] = [call_to_no]\n",
    "    data[\"BUILD ID\"] = [build_id]\n",
    "    data[\"SCENARIO\"] = [scenario]\n",
    "    data[\"MARKET\"] = [market]\n",
    "    data[\"TESTER NAME\"] = [tester_name]\n",
    "    return data"
   ]
  },
  {
   "cell_type": "code",
   "execution_count": 8,
   "metadata": {},
   "outputs": [],
   "source": [
    "def update(device_id, adb_id, operator_name, phone_no, call_to_no, build_id, scenario, market, tester_name):\n",
    "    data = set_data(device_id, adb_id, operator_name, phone_no, call_to_no, build_id, scenario, market, tester_name)\n",
    "    db = connect()\n",
    "    df1 = pandas.DataFrame(data)\n",
    "    df1.set_index(['ADB ID'], inplace=True, drop=True)\n",
    "    if adb_id in db.index:\n",
    "        db.loc[adb_id] = df1.loc[adb_id]\n",
    "    else:\n",
    "        db = pandas.concat([db, df1], sort=False)\n",
    "    db.to_csv('database.csv')\n",
    "    return db\n",
    "\n",
    "\n",
    "def view():\n",
    "    db = connect()\n",
    "    return db\n"
   ]
  },
  {
   "cell_type": "code",
   "execution_count": 25,
   "metadata": {},
   "outputs": [],
   "source": [
    "def delete(adb_id=''):\n",
    "    db = connect()\n",
    "    if adb_id in db.index:\n",
    "        db = db.drop([adb_id])\n",
    "    db.to_csv('database.csv')\n",
    "    return db\n"
   ]
  },
  {
   "cell_type": "code",
   "execution_count": 10,
   "metadata": {},
   "outputs": [],
   "source": [
    "def create_csv():\n",
    "    cols=[\"ADB ID\",\"DEVICE ID\",\"CARRIER\",\"PH. NUMBER\",\"CALL TO NO.\",\"BUILD ID\",\"SCENARIO\",\"MARKET\",\"TESTER NAME\"]\n",
    "    f = open(\"database.csv\", \"w+\")\n",
    "    for i,item in enumerate(cols):\n",
    "        if i+1<len(cols):\n",
    "            f.write(\"{},\".format(item))\n",
    "        else:\n",
    "            f.write(item)\n",
    "    f.close()\n"
   ]
  },
  {
   "cell_type": "code",
   "execution_count": 11,
   "metadata": {},
   "outputs": [],
   "source": [
    "def connect():\n",
    "    if not os.path.exists(\"database.csv\"):\n",
    "        create_csv()\n",
    "    db = pandas.read_csv(\"database.csv\")\n",
    "    db.set_index([\"ADB ID\"],inplace=True,drop=True)\n",
    "    return db\n"
   ]
  },
  {
   "cell_type": "code",
   "execution_count": 14,
   "metadata": {},
   "outputs": [
    {
     "data": {
      "text/html": [
       "<div>\n",
       "<style scoped>\n",
       "    .dataframe tbody tr th:only-of-type {\n",
       "        vertical-align: middle;\n",
       "    }\n",
       "\n",
       "    .dataframe tbody tr th {\n",
       "        vertical-align: top;\n",
       "    }\n",
       "\n",
       "    .dataframe thead th {\n",
       "        text-align: right;\n",
       "    }\n",
       "</style>\n",
       "<table border=\"1\" class=\"dataframe\">\n",
       "  <thead>\n",
       "    <tr style=\"text-align: right;\">\n",
       "      <th></th>\n",
       "      <th>DEVICE ID</th>\n",
       "      <th>CARRIER</th>\n",
       "      <th>PH. NUMBER</th>\n",
       "      <th>CALL TO NO.</th>\n",
       "      <th>BUILD ID</th>\n",
       "      <th>SCENARIO</th>\n",
       "      <th>MARKET</th>\n",
       "      <th>TESTER NAME</th>\n",
       "    </tr>\n",
       "    <tr>\n",
       "      <th>ADB ID</th>\n",
       "      <th></th>\n",
       "      <th></th>\n",
       "      <th></th>\n",
       "      <th></th>\n",
       "      <th></th>\n",
       "      <th></th>\n",
       "      <th></th>\n",
       "      <th></th>\n",
       "    </tr>\n",
       "  </thead>\n",
       "  <tbody>\n",
       "    <tr>\n",
       "      <th>63f9ddde</th>\n",
       "      <td>N10PVHLRL</td>\n",
       "      <td>TMO</td>\n",
       "      <td>4253890913</td>\n",
       "      <td>8586105350</td>\n",
       "      <td>SM8250-SDX55LA-945-HI-c9-167</td>\n",
       "      <td>SMARTEST</td>\n",
       "      <td>LV-mmW</td>\n",
       "      <td>SHADMAAN</td>\n",
       "    </tr>\n",
       "    <tr>\n",
       "      <th>9710474a</th>\n",
       "      <td>N10PRDTVB</td>\n",
       "      <td>TMO</td>\n",
       "      <td>4253899346</td>\n",
       "      <td>4256145362</td>\n",
       "      <td>SM8250-SDX55LA-945-HI-c9-169</td>\n",
       "      <td>SMARTEST</td>\n",
       "      <td>LV-mmW</td>\n",
       "      <td>SHADMAAN</td>\n",
       "    </tr>\n",
       "  </tbody>\n",
       "</table>\n",
       "</div>"
      ],
      "text/plain": [
       "          DEVICE ID CARRIER  PH. NUMBER CALL TO NO.  \\\n",
       "ADB ID                                                \n",
       "63f9ddde  N10PVHLRL     TMO  4253890913  8586105350   \n",
       "9710474a  N10PRDTVB     TMO  4253899346  4256145362   \n",
       "\n",
       "                              BUILD ID  SCENARIO  MARKET TESTER NAME  \n",
       "ADB ID                                                                \n",
       "63f9ddde  SM8250-SDX55LA-945-HI-c9-167  SMARTEST  LV-mmW    SHADMAAN  \n",
       "9710474a  SM8250-SDX55LA-945-HI-c9-169  SMARTEST  LV-mmW    SHADMAAN  "
      ]
     },
     "execution_count": 14,
     "metadata": {},
     "output_type": "execute_result"
    }
   ],
   "source": [
    "update(\"N10PRDTVB\",\"9710474a\",\"TMO\",\"4253899346\",\"4256145362\",\"SM8250-SDX55LA-945-HI-c9-169\",\"SMARTEST\",\"LV-mmW\",\"SHADMAAN\")"
   ]
  },
  {
   "cell_type": "code",
   "execution_count": 27,
   "metadata": {},
   "outputs": [
    {
     "data": {
      "text/html": [
       "<div>\n",
       "<style scoped>\n",
       "    .dataframe tbody tr th:only-of-type {\n",
       "        vertical-align: middle;\n",
       "    }\n",
       "\n",
       "    .dataframe tbody tr th {\n",
       "        vertical-align: top;\n",
       "    }\n",
       "\n",
       "    .dataframe thead th {\n",
       "        text-align: right;\n",
       "    }\n",
       "</style>\n",
       "<table border=\"1\" class=\"dataframe\">\n",
       "  <thead>\n",
       "    <tr style=\"text-align: right;\">\n",
       "      <th></th>\n",
       "      <th>DEVICE ID</th>\n",
       "      <th>CARRIER</th>\n",
       "      <th>PH. NUMBER</th>\n",
       "      <th>CALL TO NO.</th>\n",
       "      <th>BUILD ID</th>\n",
       "      <th>SCENARIO</th>\n",
       "      <th>MARKET</th>\n",
       "      <th>TESTER NAME</th>\n",
       "    </tr>\n",
       "    <tr>\n",
       "      <th>ADB ID</th>\n",
       "      <th></th>\n",
       "      <th></th>\n",
       "      <th></th>\n",
       "      <th></th>\n",
       "      <th></th>\n",
       "      <th></th>\n",
       "      <th></th>\n",
       "      <th></th>\n",
       "    </tr>\n",
       "  </thead>\n",
       "  <tbody>\n",
       "    <tr>\n",
       "      <th>63f9ddde</th>\n",
       "      <td>N10PVHLRL</td>\n",
       "      <td>TMO</td>\n",
       "      <td>4253890913</td>\n",
       "      <td>8586105350</td>\n",
       "      <td>SM8250-SDX55LA-945-HI-c9-167</td>\n",
       "      <td>SMARTEST</td>\n",
       "      <td>LV-mmW</td>\n",
       "      <td>SHADMAAN</td>\n",
       "    </tr>\n",
       "  </tbody>\n",
       "</table>\n",
       "</div>"
      ],
      "text/plain": [
       "          DEVICE ID CARRIER  PH. NUMBER  CALL TO NO.  \\\n",
       "ADB ID                                                 \n",
       "63f9ddde  N10PVHLRL     TMO  4253890913   8586105350   \n",
       "\n",
       "                              BUILD ID  SCENARIO  MARKET TESTER NAME  \n",
       "ADB ID                                                                \n",
       "63f9ddde  SM8250-SDX55LA-945-HI-c9-167  SMARTEST  LV-mmW    SHADMAAN  "
      ]
     },
     "execution_count": 27,
     "metadata": {},
     "output_type": "execute_result"
    }
   ],
   "source": [
    "delete(\"9710474a\")\n"
   ]
  },
  {
   "cell_type": "code",
   "execution_count": 31,
   "metadata": {},
   "outputs": [],
   "source": [
    "db = view()"
   ]
  },
  {
   "cell_type": "code",
   "execution_count": 32,
   "metadata": {},
   "outputs": [
    {
     "data": {
      "text/html": [
       "<div>\n",
       "<style scoped>\n",
       "    .dataframe tbody tr th:only-of-type {\n",
       "        vertical-align: middle;\n",
       "    }\n",
       "\n",
       "    .dataframe tbody tr th {\n",
       "        vertical-align: top;\n",
       "    }\n",
       "\n",
       "    .dataframe thead th {\n",
       "        text-align: right;\n",
       "    }\n",
       "</style>\n",
       "<table border=\"1\" class=\"dataframe\">\n",
       "  <thead>\n",
       "    <tr style=\"text-align: right;\">\n",
       "      <th></th>\n",
       "      <th>DEVICE ID</th>\n",
       "      <th>CARRIER</th>\n",
       "      <th>PH. NUMBER</th>\n",
       "      <th>CALL TO NO.</th>\n",
       "      <th>BUILD ID</th>\n",
       "      <th>SCENARIO</th>\n",
       "      <th>MARKET</th>\n",
       "      <th>TESTER NAME</th>\n",
       "    </tr>\n",
       "    <tr>\n",
       "      <th>ADB ID</th>\n",
       "      <th></th>\n",
       "      <th></th>\n",
       "      <th></th>\n",
       "      <th></th>\n",
       "      <th></th>\n",
       "      <th></th>\n",
       "      <th></th>\n",
       "      <th></th>\n",
       "    </tr>\n",
       "  </thead>\n",
       "  <tbody>\n",
       "    <tr>\n",
       "      <th>63f9ddde</th>\n",
       "      <td>N10PVHLRL</td>\n",
       "      <td>TMO</td>\n",
       "      <td>4253890913</td>\n",
       "      <td>8586105350</td>\n",
       "      <td>SM8250-SDX55LA-945-HI-c9-167</td>\n",
       "      <td>SMARTEST</td>\n",
       "      <td>LV-mmW</td>\n",
       "      <td>SHADMAAN</td>\n",
       "    </tr>\n",
       "  </tbody>\n",
       "</table>\n",
       "</div>"
      ],
      "text/plain": [
       "          DEVICE ID CARRIER  PH. NUMBER  CALL TO NO.  \\\n",
       "ADB ID                                                 \n",
       "63f9ddde  N10PVHLRL     TMO  4253890913   8586105350   \n",
       "\n",
       "                              BUILD ID  SCENARIO  MARKET TESTER NAME  \n",
       "ADB ID                                                                \n",
       "63f9ddde  SM8250-SDX55LA-945-HI-c9-167  SMARTEST  LV-mmW    SHADMAAN  "
      ]
     },
     "execution_count": 32,
     "metadata": {},
     "output_type": "execute_result"
    }
   ],
   "source": [
    "db"
   ]
  },
  {
   "cell_type": "code",
   "execution_count": 112,
   "metadata": {},
   "outputs": [],
   "source": [
    "subset = db[[\"DEVICE ID\",\"CARRIER\",\"PH. NUMBER\",\"CALL TO NO.\",\"BUILD ID\",\"SCENARIO\",\"MARKET\",\"TESTER NAME\"]]"
   ]
  },
  {
   "cell_type": "code",
   "execution_count": 118,
   "metadata": {},
   "outputs": [],
   "source": [
    "tuples = [tuple(x) for x in subset.values]"
   ]
  },
  {
   "cell_type": "code",
   "execution_count": 121,
   "metadata": {},
   "outputs": [
    {
     "data": {
      "text/html": [
       "<div>\n",
       "<style scoped>\n",
       "    .dataframe tbody tr th:only-of-type {\n",
       "        vertical-align: middle;\n",
       "    }\n",
       "\n",
       "    .dataframe tbody tr th {\n",
       "        vertical-align: top;\n",
       "    }\n",
       "\n",
       "    .dataframe thead th {\n",
       "        text-align: right;\n",
       "    }\n",
       "</style>\n",
       "<table border=\"1\" class=\"dataframe\">\n",
       "  <thead>\n",
       "    <tr style=\"text-align: right;\">\n",
       "      <th></th>\n",
       "      <th>DEVICE ID</th>\n",
       "      <th>CARRIER</th>\n",
       "      <th>PH. NUMBER</th>\n",
       "      <th>CALL TO NO.</th>\n",
       "      <th>BUILD ID</th>\n",
       "      <th>SCENARIO</th>\n",
       "      <th>MARKET</th>\n",
       "      <th>TESTER NAME</th>\n",
       "    </tr>\n",
       "    <tr>\n",
       "      <th>ADB ID</th>\n",
       "      <th></th>\n",
       "      <th></th>\n",
       "      <th></th>\n",
       "      <th></th>\n",
       "      <th></th>\n",
       "      <th></th>\n",
       "      <th></th>\n",
       "      <th></th>\n",
       "    </tr>\n",
       "  </thead>\n",
       "  <tbody>\n",
       "    <tr>\n",
       "      <th>63f9ddde</th>\n",
       "      <td>N10PVHLRL</td>\n",
       "      <td>TMO</td>\n",
       "      <td>4253890913</td>\n",
       "      <td>8586105350</td>\n",
       "      <td>SM8250-SDX55LA-945-HI-c9-167</td>\n",
       "      <td>SMARTEST</td>\n",
       "      <td>LV-mmW</td>\n",
       "      <td>SHADMAAN</td>\n",
       "    </tr>\n",
       "    <tr>\n",
       "      <th>9735474a</th>\n",
       "      <td>N10PRDTVR</td>\n",
       "      <td>TMO</td>\n",
       "      <td>4255899346</td>\n",
       "      <td>4256134362</td>\n",
       "      <td>SM8250-SDX55LA-945-HI-c9-169</td>\n",
       "      <td>SMARTEST</td>\n",
       "      <td>LV-mmW</td>\n",
       "      <td>SHADMAAN</td>\n",
       "    </tr>\n",
       "  </tbody>\n",
       "</table>\n",
       "</div>"
      ],
      "text/plain": [
       "          DEVICE ID CARRIER  PH. NUMBER CALL TO NO.  \\\n",
       "ADB ID                                                \n",
       "63f9ddde  N10PVHLRL     TMO  4253890913  8586105350   \n",
       "9735474a  N10PRDTVR     TMO  4255899346  4256134362   \n",
       "\n",
       "                              BUILD ID  SCENARIO  MARKET TESTER NAME  \n",
       "ADB ID                                                                \n",
       "63f9ddde  SM8250-SDX55LA-945-HI-c9-167  SMARTEST  LV-mmW    SHADMAAN  \n",
       "9735474a  SM8250-SDX55LA-945-HI-c9-169  SMARTEST  LV-mmW    SHADMAAN  "
      ]
     },
     "execution_count": 121,
     "metadata": {},
     "output_type": "execute_result"
    }
   ],
   "source": [
    "update(\"N10PRDTVR\",\"9735474a\",\"TMO\",\"4255899346\",\"4256134362\",\"SM8250-SDX55LA-945-HI-c9-169\",\"SMARTEST\",\"LV-mmW\",\"SHADMAAN\")"
   ]
  },
  {
   "cell_type": "code",
   "execution_count": 162,
   "metadata": {},
   "outputs": [],
   "source": [
    "db=view()"
   ]
  },
  {
   "cell_type": "code",
   "execution_count": 168,
   "metadata": {},
   "outputs": [
    {
     "name": "stdout",
     "output_type": "stream",
     "text": [
      "['63f9ddde' 'N10PVHLRL' 'TMO' 4253890913 8586105350\n",
      " 'SM8250-SDX55LA-945-HI-c9-167' 'SMARTEST' 'LV-mmW' 'SHADMAAN']\n",
      "===========================\n",
      "('63f9ddde', 'N10PVHLRL', 'TMO', 4253890913, 8586105350, 'SM8250-SDX55LA-945-HI-c9-167', 'SMARTEST', 'LV-mmW', 'SHADMAAN')\n",
      "===========================\n",
      "['9735474a' 'N10PRDTVR' 'TMO' 4255899346 4256134362\n",
      " 'SM8250-SDX55LA-945-HI-c9-169' 'SMARTEST' 'LV-mmW' 'SHADMAAN']\n",
      "===========================\n",
      "('9735474a', 'N10PRDTVR', 'TMO', 4255899346, 4256134362, 'SM8250-SDX55LA-945-HI-c9-169', 'SMARTEST', 'LV-mmW', 'SHADMAAN')\n",
      "===========================\n",
      "['9710474a' 'N10PRDTVB' 'TMO' 4253899346 4256145362\n",
      " 'SM8250-SDX55LA-945-HI-c9-169' 'SMARTEST' 'LV-mmW' 'SHADMAAN']\n",
      "===========================\n",
      "('9710474a', 'N10PRDTVB', 'TMO', 4253899346, 4256145362, 'SM8250-SDX55LA-945-HI-c9-169', 'SMARTEST', 'LV-mmW', 'SHADMAAN')\n",
      "===========================\n"
     ]
    }
   ],
   "source": [
    "for adbs in db.reset_index().values:\n",
    "    print(adbs)\n",
    "    print('===========================')\n",
    "    print(tuple(adbs))\n",
    "    print('===========================')"
   ]
  },
  {
   "cell_type": "code",
   "execution_count": 153,
   "metadata": {},
   "outputs": [],
   "source": [
    "my_list = ['63f9ddde','N10PVHLRL','TMO',\"4253890913\",\"8586105350\",\"SM8250-SDX55LA-945-HI-c9-167\",'SMARTEST','LV-mmW','SHADMAAN']"
   ]
  },
  {
   "cell_type": "code",
   "execution_count": 159,
   "metadata": {},
   "outputs": [
    {
     "data": {
      "text/plain": [
       "('63f9ddde',\n",
       " 'N10PVHLRL',\n",
       " 'TMO',\n",
       " '4253890913',\n",
       " '8586105350',\n",
       " 'SM8250-SDX55LA-945-HI-c9-167',\n",
       " 'SMARTEST',\n",
       " 'LV-mmW',\n",
       " 'SHADMAAN')"
      ]
     },
     "execution_count": 159,
     "metadata": {},
     "output_type": "execute_result"
    }
   ],
   "source": [
    "tuple(my_list)"
   ]
  },
  {
   "cell_type": "code",
   "execution_count": 124,
   "metadata": {},
   "outputs": [
    {
     "ename": "ValueError",
     "evalue": "The truth value of a Series is ambiguous. Use a.empty, a.bool(), a.item(), a.any() or a.all().",
     "output_type": "error",
     "traceback": [
      "\u001b[1;31m---------------------------------------------------------------------------\u001b[0m",
      "\u001b[1;31mValueError\u001b[0m                                Traceback (most recent call last)",
      "\u001b[1;32m<ipython-input-124-ed1b88a83bc7>\u001b[0m in \u001b[0;36m<module>\u001b[1;34m\u001b[0m\n\u001b[1;32m----> 1\u001b[1;33m \u001b[1;32mif\u001b[0m \u001b[0mdf2\u001b[0m\u001b[1;33m.\u001b[0m\u001b[0mloc\u001b[0m\u001b[1;33m[\u001b[0m\u001b[1;34m'63f9ddde'\u001b[0m\u001b[1;33m]\u001b[0m\u001b[1;33m:\u001b[0m\u001b[1;33m\u001b[0m\u001b[0m\n\u001b[0m\u001b[0;32m      2\u001b[0m     \u001b[0mprint\u001b[0m\u001b[1;33m(\u001b[0m\u001b[1;34m'It exists'\u001b[0m\u001b[1;33m)\u001b[0m\u001b[1;33m\u001b[0m\u001b[0m\n",
      "\u001b[1;32mc:\\python3.6.5\\lib\\site-packages\\pandas\\core\\generic.py\u001b[0m in \u001b[0;36m__nonzero__\u001b[1;34m(self)\u001b[0m\n\u001b[0;32m   1574\u001b[0m         raise ValueError(\"The truth value of a {0} is ambiguous. \"\n\u001b[0;32m   1575\u001b[0m                          \u001b[1;34m\"Use a.empty, a.bool(), a.item(), a.any() or a.all().\"\u001b[0m\u001b[1;33m\u001b[0m\u001b[0m\n\u001b[1;32m-> 1576\u001b[1;33m                          .format(self.__class__.__name__))\n\u001b[0m\u001b[0;32m   1577\u001b[0m \u001b[1;33m\u001b[0m\u001b[0m\n\u001b[0;32m   1578\u001b[0m     \u001b[0m__bool__\u001b[0m \u001b[1;33m=\u001b[0m \u001b[0m__nonzero__\u001b[0m\u001b[1;33m\u001b[0m\u001b[0m\n",
      "\u001b[1;31mValueError\u001b[0m: The truth value of a Series is ambiguous. Use a.empty, a.bool(), a.item(), a.any() or a.all()."
     ]
    }
   ],
   "source": [
    "if df2.loc['63f9ddde']:\n",
    "    print('It exists')"
   ]
  },
  {
   "cell_type": "code",
   "execution_count": 126,
   "metadata": {},
   "outputs": [
    {
     "data": {
      "text/plain": [
       "True"
      ]
     },
     "execution_count": 126,
     "metadata": {},
     "output_type": "execute_result"
    }
   ],
   "source": [
    "'63f9ddde' in df2.index"
   ]
  },
  {
   "cell_type": "code",
   "execution_count": 186,
   "metadata": {},
   "outputs": [],
   "source": [
    "cols=[\"DEVICE ID\",\"ADB ID\",\"CARRIER\",\"PH. NUMBER\",\"CALL TO NO.\",\"BUILD ID\",\"SCENARIO\",\"MARKET\",\"TESTER NAME\"]\n",
    "\n",
    "\n",
    "def create_csv():\n",
    "    f = open(\"C:\\\\TOOLS\\\\CRASHES\\\\db-updater\\\\database.csv\", \"w+\")\n",
    "    for i,item in enumerate(cols):\n",
    "        if i+1<len(cols):\n",
    "            f.write(\"{},\".format(item))\n",
    "        else:\n",
    "            f.write(item)\n",
    "    f.close()\n"
   ]
  },
  {
   "cell_type": "code",
   "execution_count": 187,
   "metadata": {},
   "outputs": [],
   "source": [
    "\n",
    "def connect():\n",
    "    if not os.path.exists(\"C:\\\\TOOLS\\\\CRASHES\\\\db-updater\\\\database.csv\"):\n",
    "        create_csv()\n",
    "    db = pandas.read_csv(\"C:\\\\TOOLS\\\\CRASHES\\\\db-updater\\\\database.csv\")\n",
    "    return db"
   ]
  },
  {
   "cell_type": "code",
   "execution_count": 188,
   "metadata": {},
   "outputs": [],
   "source": [
    "db = connect()"
   ]
  },
  {
   "cell_type": "code",
   "execution_count": 189,
   "metadata": {},
   "outputs": [
    {
     "data": {
      "text/html": [
       "<div>\n",
       "<style scoped>\n",
       "    .dataframe tbody tr th:only-of-type {\n",
       "        vertical-align: middle;\n",
       "    }\n",
       "\n",
       "    .dataframe tbody tr th {\n",
       "        vertical-align: top;\n",
       "    }\n",
       "\n",
       "    .dataframe thead th {\n",
       "        text-align: right;\n",
       "    }\n",
       "</style>\n",
       "<table border=\"1\" class=\"dataframe\">\n",
       "  <thead>\n",
       "    <tr style=\"text-align: right;\">\n",
       "      <th></th>\n",
       "      <th>DEVICE ID</th>\n",
       "      <th>ADB ID</th>\n",
       "      <th>CARRIER</th>\n",
       "      <th>PH. NUMBER</th>\n",
       "      <th>CALL TO NO.</th>\n",
       "      <th>BUILD ID</th>\n",
       "      <th>SCENARIO</th>\n",
       "      <th>MARKET</th>\n",
       "      <th>TESTER NAME</th>\n",
       "    </tr>\n",
       "  </thead>\n",
       "  <tbody>\n",
       "  </tbody>\n",
       "</table>\n",
       "</div>"
      ],
      "text/plain": [
       "Empty DataFrame\n",
       "Columns: [DEVICE ID, ADB ID, CARRIER, PH. NUMBER, CALL TO NO., BUILD ID, SCENARIO, MARKET, TESTER NAME]\n",
       "Index: []"
      ]
     },
     "execution_count": 189,
     "metadata": {},
     "output_type": "execute_result"
    }
   ],
   "source": [
    "db"
   ]
  },
  {
   "cell_type": "code",
   "execution_count": 190,
   "metadata": {},
   "outputs": [],
   "source": [
    "db.set_index([\"ADB ID\"],inplace=True,drop=False)"
   ]
  },
  {
   "cell_type": "code",
   "execution_count": 193,
   "metadata": {},
   "outputs": [
    {
     "data": {
      "text/html": [
       "<div>\n",
       "<style scoped>\n",
       "    .dataframe tbody tr th:only-of-type {\n",
       "        vertical-align: middle;\n",
       "    }\n",
       "\n",
       "    .dataframe tbody tr th {\n",
       "        vertical-align: top;\n",
       "    }\n",
       "\n",
       "    .dataframe thead th {\n",
       "        text-align: right;\n",
       "    }\n",
       "</style>\n",
       "<table border=\"1\" class=\"dataframe\">\n",
       "  <thead>\n",
       "    <tr style=\"text-align: right;\">\n",
       "      <th></th>\n",
       "      <th>DEVICE ID</th>\n",
       "      <th>ADB ID</th>\n",
       "      <th>CARRIER</th>\n",
       "      <th>PH. NUMBER</th>\n",
       "      <th>CALL TO NO.</th>\n",
       "      <th>BUILD ID</th>\n",
       "      <th>SCENARIO</th>\n",
       "      <th>MARKET</th>\n",
       "      <th>TESTER NAME</th>\n",
       "    </tr>\n",
       "    <tr>\n",
       "      <th>ADB ID</th>\n",
       "      <th></th>\n",
       "      <th></th>\n",
       "      <th></th>\n",
       "      <th></th>\n",
       "      <th></th>\n",
       "      <th></th>\n",
       "      <th></th>\n",
       "      <th></th>\n",
       "      <th></th>\n",
       "    </tr>\n",
       "  </thead>\n",
       "  <tbody>\n",
       "  </tbody>\n",
       "</table>\n",
       "</div>"
      ],
      "text/plain": [
       "Empty DataFrame\n",
       "Columns: [DEVICE ID, ADB ID, CARRIER, PH. NUMBER, CALL TO NO., BUILD ID, SCENARIO, MARKET, TESTER NAME]\n",
       "Index: []"
      ]
     },
     "execution_count": 193,
     "metadata": {},
     "output_type": "execute_result"
    }
   ],
   "source": [
    "db"
   ]
  },
  {
   "cell_type": "code",
   "execution_count": 140,
   "metadata": {},
   "outputs": [
    {
     "data": {
      "text/plain": [
       "['DEVICE ID',\n",
       " 'ADB ID',\n",
       " 'CARRIER',\n",
       " 'PH. NUMBER',\n",
       " 'CALL TO NO.',\n",
       " 'BUILD ID',\n",
       " 'SCENARIO',\n",
       " 'MARKET',\n",
       " 'TESTER NAME']"
      ]
     },
     "execution_count": 140,
     "metadata": {},
     "output_type": "execute_result"
    }
   ],
   "source": [
    "cols"
   ]
  },
  {
   "cell_type": "code",
   "execution_count": 165,
   "metadata": {},
   "outputs": [],
   "source": [
    "db1=pandas.DataFrame()"
   ]
  },
  {
   "cell_type": "code",
   "execution_count": 192,
   "metadata": {},
   "outputs": [
    {
     "data": {
      "text/html": [
       "<div>\n",
       "<style scoped>\n",
       "    .dataframe tbody tr th:only-of-type {\n",
       "        vertical-align: middle;\n",
       "    }\n",
       "\n",
       "    .dataframe tbody tr th {\n",
       "        vertical-align: top;\n",
       "    }\n",
       "\n",
       "    .dataframe thead th {\n",
       "        text-align: right;\n",
       "    }\n",
       "</style>\n",
       "<table border=\"1\" class=\"dataframe\">\n",
       "  <thead>\n",
       "    <tr style=\"text-align: right;\">\n",
       "      <th></th>\n",
       "    </tr>\n",
       "  </thead>\n",
       "  <tbody>\n",
       "  </tbody>\n",
       "</table>\n",
       "</div>"
      ],
      "text/plain": [
       "Empty DataFrame\n",
       "Columns: []\n",
       "Index: []"
      ]
     },
     "execution_count": 192,
     "metadata": {},
     "output_type": "execute_result"
    }
   ],
   "source": [
    "db1"
   ]
  },
  {
   "cell_type": "code",
   "execution_count": 167,
   "metadata": {},
   "outputs": [
    {
     "ename": "KeyError",
     "evalue": "'ADB'",
     "output_type": "error",
     "traceback": [
      "\u001b[1;31m---------------------------------------------------------------------------\u001b[0m",
      "\u001b[1;31mKeyError\u001b[0m                                  Traceback (most recent call last)",
      "\u001b[1;32mc:\\python3.6.5\\lib\\site-packages\\pandas\\core\\indexes\\base.py\u001b[0m in \u001b[0;36mget_loc\u001b[1;34m(self, key, method, tolerance)\u001b[0m\n\u001b[0;32m   3077\u001b[0m             \u001b[1;32mtry\u001b[0m\u001b[1;33m:\u001b[0m\u001b[1;33m\u001b[0m\u001b[0m\n\u001b[1;32m-> 3078\u001b[1;33m                 \u001b[1;32mreturn\u001b[0m \u001b[0mself\u001b[0m\u001b[1;33m.\u001b[0m\u001b[0m_engine\u001b[0m\u001b[1;33m.\u001b[0m\u001b[0mget_loc\u001b[0m\u001b[1;33m(\u001b[0m\u001b[0mkey\u001b[0m\u001b[1;33m)\u001b[0m\u001b[1;33m\u001b[0m\u001b[0m\n\u001b[0m\u001b[0;32m   3079\u001b[0m             \u001b[1;32mexcept\u001b[0m \u001b[0mKeyError\u001b[0m\u001b[1;33m:\u001b[0m\u001b[1;33m\u001b[0m\u001b[0m\n",
      "\u001b[1;32mpandas\\_libs\\index.pyx\u001b[0m in \u001b[0;36mpandas._libs.index.IndexEngine.get_loc\u001b[1;34m()\u001b[0m\n",
      "\u001b[1;32mpandas\\_libs\\index.pyx\u001b[0m in \u001b[0;36mpandas._libs.index.IndexEngine.get_loc\u001b[1;34m()\u001b[0m\n",
      "\u001b[1;32mpandas\\_libs\\hashtable_class_helper.pxi\u001b[0m in \u001b[0;36mpandas._libs.hashtable.PyObjectHashTable.get_item\u001b[1;34m()\u001b[0m\n",
      "\u001b[1;32mpandas\\_libs\\hashtable_class_helper.pxi\u001b[0m in \u001b[0;36mpandas._libs.hashtable.PyObjectHashTable.get_item\u001b[1;34m()\u001b[0m\n",
      "\u001b[1;31mKeyError\u001b[0m: 'ADB'",
      "\nDuring handling of the above exception, another exception occurred:\n",
      "\u001b[1;31mKeyError\u001b[0m                                  Traceback (most recent call last)",
      "\u001b[1;32m<ipython-input-167-7da83601da32>\u001b[0m in \u001b[0;36m<module>\u001b[1;34m\u001b[0m\n\u001b[1;32m----> 1\u001b[1;33m \u001b[0mdb1\u001b[0m\u001b[1;33m.\u001b[0m\u001b[0mset_index\u001b[0m\u001b[1;33m(\u001b[0m\u001b[1;33m[\u001b[0m\u001b[1;34m\"ADB\"\u001b[0m\u001b[1;33m]\u001b[0m\u001b[1;33m,\u001b[0m\u001b[0minplace\u001b[0m\u001b[1;33m=\u001b[0m\u001b[1;32mTrue\u001b[0m\u001b[1;33m,\u001b[0m\u001b[0mdrop\u001b[0m\u001b[1;33m=\u001b[0m\u001b[1;32mFalse\u001b[0m\u001b[1;33m)\u001b[0m\u001b[1;33m\u001b[0m\u001b[0m\n\u001b[0m",
      "\u001b[1;32mc:\\python3.6.5\\lib\\site-packages\\pandas\\core\\frame.py\u001b[0m in \u001b[0;36mset_index\u001b[1;34m(self, keys, drop, append, inplace, verify_integrity)\u001b[0m\n\u001b[0;32m   3907\u001b[0m                 \u001b[0mnames\u001b[0m\u001b[1;33m.\u001b[0m\u001b[0mappend\u001b[0m\u001b[1;33m(\u001b[0m\u001b[1;32mNone\u001b[0m\u001b[1;33m)\u001b[0m\u001b[1;33m\u001b[0m\u001b[0m\n\u001b[0;32m   3908\u001b[0m             \u001b[1;32melse\u001b[0m\u001b[1;33m:\u001b[0m\u001b[1;33m\u001b[0m\u001b[0m\n\u001b[1;32m-> 3909\u001b[1;33m                 \u001b[0mlevel\u001b[0m \u001b[1;33m=\u001b[0m \u001b[0mframe\u001b[0m\u001b[1;33m[\u001b[0m\u001b[0mcol\u001b[0m\u001b[1;33m]\u001b[0m\u001b[1;33m.\u001b[0m\u001b[0m_values\u001b[0m\u001b[1;33m\u001b[0m\u001b[0m\n\u001b[0m\u001b[0;32m   3910\u001b[0m                 \u001b[0mnames\u001b[0m\u001b[1;33m.\u001b[0m\u001b[0mappend\u001b[0m\u001b[1;33m(\u001b[0m\u001b[0mcol\u001b[0m\u001b[1;33m)\u001b[0m\u001b[1;33m\u001b[0m\u001b[0m\n\u001b[0;32m   3911\u001b[0m                 \u001b[1;32mif\u001b[0m \u001b[0mdrop\u001b[0m\u001b[1;33m:\u001b[0m\u001b[1;33m\u001b[0m\u001b[0m\n",
      "\u001b[1;32mc:\\python3.6.5\\lib\\site-packages\\pandas\\core\\frame.py\u001b[0m in \u001b[0;36m__getitem__\u001b[1;34m(self, key)\u001b[0m\n\u001b[0;32m   2686\u001b[0m             \u001b[1;32mreturn\u001b[0m \u001b[0mself\u001b[0m\u001b[1;33m.\u001b[0m\u001b[0m_getitem_multilevel\u001b[0m\u001b[1;33m(\u001b[0m\u001b[0mkey\u001b[0m\u001b[1;33m)\u001b[0m\u001b[1;33m\u001b[0m\u001b[0m\n\u001b[0;32m   2687\u001b[0m         \u001b[1;32melse\u001b[0m\u001b[1;33m:\u001b[0m\u001b[1;33m\u001b[0m\u001b[0m\n\u001b[1;32m-> 2688\u001b[1;33m             \u001b[1;32mreturn\u001b[0m \u001b[0mself\u001b[0m\u001b[1;33m.\u001b[0m\u001b[0m_getitem_column\u001b[0m\u001b[1;33m(\u001b[0m\u001b[0mkey\u001b[0m\u001b[1;33m)\u001b[0m\u001b[1;33m\u001b[0m\u001b[0m\n\u001b[0m\u001b[0;32m   2689\u001b[0m \u001b[1;33m\u001b[0m\u001b[0m\n\u001b[0;32m   2690\u001b[0m     \u001b[1;32mdef\u001b[0m \u001b[0m_getitem_column\u001b[0m\u001b[1;33m(\u001b[0m\u001b[0mself\u001b[0m\u001b[1;33m,\u001b[0m \u001b[0mkey\u001b[0m\u001b[1;33m)\u001b[0m\u001b[1;33m:\u001b[0m\u001b[1;33m\u001b[0m\u001b[0m\n",
      "\u001b[1;32mc:\\python3.6.5\\lib\\site-packages\\pandas\\core\\frame.py\u001b[0m in \u001b[0;36m_getitem_column\u001b[1;34m(self, key)\u001b[0m\n\u001b[0;32m   2693\u001b[0m         \u001b[1;31m# get column\u001b[0m\u001b[1;33m\u001b[0m\u001b[1;33m\u001b[0m\u001b[0m\n\u001b[0;32m   2694\u001b[0m         \u001b[1;32mif\u001b[0m \u001b[0mself\u001b[0m\u001b[1;33m.\u001b[0m\u001b[0mcolumns\u001b[0m\u001b[1;33m.\u001b[0m\u001b[0mis_unique\u001b[0m\u001b[1;33m:\u001b[0m\u001b[1;33m\u001b[0m\u001b[0m\n\u001b[1;32m-> 2695\u001b[1;33m             \u001b[1;32mreturn\u001b[0m \u001b[0mself\u001b[0m\u001b[1;33m.\u001b[0m\u001b[0m_get_item_cache\u001b[0m\u001b[1;33m(\u001b[0m\u001b[0mkey\u001b[0m\u001b[1;33m)\u001b[0m\u001b[1;33m\u001b[0m\u001b[0m\n\u001b[0m\u001b[0;32m   2696\u001b[0m \u001b[1;33m\u001b[0m\u001b[0m\n\u001b[0;32m   2697\u001b[0m         \u001b[1;31m# duplicate columns & possible reduce dimensionality\u001b[0m\u001b[1;33m\u001b[0m\u001b[1;33m\u001b[0m\u001b[0m\n",
      "\u001b[1;32mc:\\python3.6.5\\lib\\site-packages\\pandas\\core\\generic.py\u001b[0m in \u001b[0;36m_get_item_cache\u001b[1;34m(self, item)\u001b[0m\n\u001b[0;32m   2487\u001b[0m         \u001b[0mres\u001b[0m \u001b[1;33m=\u001b[0m \u001b[0mcache\u001b[0m\u001b[1;33m.\u001b[0m\u001b[0mget\u001b[0m\u001b[1;33m(\u001b[0m\u001b[0mitem\u001b[0m\u001b[1;33m)\u001b[0m\u001b[1;33m\u001b[0m\u001b[0m\n\u001b[0;32m   2488\u001b[0m         \u001b[1;32mif\u001b[0m \u001b[0mres\u001b[0m \u001b[1;32mis\u001b[0m \u001b[1;32mNone\u001b[0m\u001b[1;33m:\u001b[0m\u001b[1;33m\u001b[0m\u001b[0m\n\u001b[1;32m-> 2489\u001b[1;33m             \u001b[0mvalues\u001b[0m \u001b[1;33m=\u001b[0m \u001b[0mself\u001b[0m\u001b[1;33m.\u001b[0m\u001b[0m_data\u001b[0m\u001b[1;33m.\u001b[0m\u001b[0mget\u001b[0m\u001b[1;33m(\u001b[0m\u001b[0mitem\u001b[0m\u001b[1;33m)\u001b[0m\u001b[1;33m\u001b[0m\u001b[0m\n\u001b[0m\u001b[0;32m   2490\u001b[0m             \u001b[0mres\u001b[0m \u001b[1;33m=\u001b[0m \u001b[0mself\u001b[0m\u001b[1;33m.\u001b[0m\u001b[0m_box_item_values\u001b[0m\u001b[1;33m(\u001b[0m\u001b[0mitem\u001b[0m\u001b[1;33m,\u001b[0m \u001b[0mvalues\u001b[0m\u001b[1;33m)\u001b[0m\u001b[1;33m\u001b[0m\u001b[0m\n\u001b[0;32m   2491\u001b[0m             \u001b[0mcache\u001b[0m\u001b[1;33m[\u001b[0m\u001b[0mitem\u001b[0m\u001b[1;33m]\u001b[0m \u001b[1;33m=\u001b[0m \u001b[0mres\u001b[0m\u001b[1;33m\u001b[0m\u001b[0m\n",
      "\u001b[1;32mc:\\python3.6.5\\lib\\site-packages\\pandas\\core\\internals.py\u001b[0m in \u001b[0;36mget\u001b[1;34m(self, item, fastpath)\u001b[0m\n\u001b[0;32m   4113\u001b[0m \u001b[1;33m\u001b[0m\u001b[0m\n\u001b[0;32m   4114\u001b[0m             \u001b[1;32mif\u001b[0m \u001b[1;32mnot\u001b[0m \u001b[0misna\u001b[0m\u001b[1;33m(\u001b[0m\u001b[0mitem\u001b[0m\u001b[1;33m)\u001b[0m\u001b[1;33m:\u001b[0m\u001b[1;33m\u001b[0m\u001b[0m\n\u001b[1;32m-> 4115\u001b[1;33m                 \u001b[0mloc\u001b[0m \u001b[1;33m=\u001b[0m \u001b[0mself\u001b[0m\u001b[1;33m.\u001b[0m\u001b[0mitems\u001b[0m\u001b[1;33m.\u001b[0m\u001b[0mget_loc\u001b[0m\u001b[1;33m(\u001b[0m\u001b[0mitem\u001b[0m\u001b[1;33m)\u001b[0m\u001b[1;33m\u001b[0m\u001b[0m\n\u001b[0m\u001b[0;32m   4116\u001b[0m             \u001b[1;32melse\u001b[0m\u001b[1;33m:\u001b[0m\u001b[1;33m\u001b[0m\u001b[0m\n\u001b[0;32m   4117\u001b[0m                 \u001b[0mindexer\u001b[0m \u001b[1;33m=\u001b[0m \u001b[0mnp\u001b[0m\u001b[1;33m.\u001b[0m\u001b[0marange\u001b[0m\u001b[1;33m(\u001b[0m\u001b[0mlen\u001b[0m\u001b[1;33m(\u001b[0m\u001b[0mself\u001b[0m\u001b[1;33m.\u001b[0m\u001b[0mitems\u001b[0m\u001b[1;33m)\u001b[0m\u001b[1;33m)\u001b[0m\u001b[1;33m[\u001b[0m\u001b[0misna\u001b[0m\u001b[1;33m(\u001b[0m\u001b[0mself\u001b[0m\u001b[1;33m.\u001b[0m\u001b[0mitems\u001b[0m\u001b[1;33m)\u001b[0m\u001b[1;33m]\u001b[0m\u001b[1;33m\u001b[0m\u001b[0m\n",
      "\u001b[1;32mc:\\python3.6.5\\lib\\site-packages\\pandas\\core\\indexes\\base.py\u001b[0m in \u001b[0;36mget_loc\u001b[1;34m(self, key, method, tolerance)\u001b[0m\n\u001b[0;32m   3078\u001b[0m                 \u001b[1;32mreturn\u001b[0m \u001b[0mself\u001b[0m\u001b[1;33m.\u001b[0m\u001b[0m_engine\u001b[0m\u001b[1;33m.\u001b[0m\u001b[0mget_loc\u001b[0m\u001b[1;33m(\u001b[0m\u001b[0mkey\u001b[0m\u001b[1;33m)\u001b[0m\u001b[1;33m\u001b[0m\u001b[0m\n\u001b[0;32m   3079\u001b[0m             \u001b[1;32mexcept\u001b[0m \u001b[0mKeyError\u001b[0m\u001b[1;33m:\u001b[0m\u001b[1;33m\u001b[0m\u001b[0m\n\u001b[1;32m-> 3080\u001b[1;33m                 \u001b[1;32mreturn\u001b[0m \u001b[0mself\u001b[0m\u001b[1;33m.\u001b[0m\u001b[0m_engine\u001b[0m\u001b[1;33m.\u001b[0m\u001b[0mget_loc\u001b[0m\u001b[1;33m(\u001b[0m\u001b[0mself\u001b[0m\u001b[1;33m.\u001b[0m\u001b[0m_maybe_cast_indexer\u001b[0m\u001b[1;33m(\u001b[0m\u001b[0mkey\u001b[0m\u001b[1;33m)\u001b[0m\u001b[1;33m)\u001b[0m\u001b[1;33m\u001b[0m\u001b[0m\n\u001b[0m\u001b[0;32m   3081\u001b[0m \u001b[1;33m\u001b[0m\u001b[0m\n\u001b[0;32m   3082\u001b[0m         \u001b[0mindexer\u001b[0m \u001b[1;33m=\u001b[0m \u001b[0mself\u001b[0m\u001b[1;33m.\u001b[0m\u001b[0mget_indexer\u001b[0m\u001b[1;33m(\u001b[0m\u001b[1;33m[\u001b[0m\u001b[0mkey\u001b[0m\u001b[1;33m]\u001b[0m\u001b[1;33m,\u001b[0m \u001b[0mmethod\u001b[0m\u001b[1;33m=\u001b[0m\u001b[0mmethod\u001b[0m\u001b[1;33m,\u001b[0m \u001b[0mtolerance\u001b[0m\u001b[1;33m=\u001b[0m\u001b[0mtolerance\u001b[0m\u001b[1;33m)\u001b[0m\u001b[1;33m\u001b[0m\u001b[0m\n",
      "\u001b[1;32mpandas\\_libs\\index.pyx\u001b[0m in \u001b[0;36mpandas._libs.index.IndexEngine.get_loc\u001b[1;34m()\u001b[0m\n",
      "\u001b[1;32mpandas\\_libs\\index.pyx\u001b[0m in \u001b[0;36mpandas._libs.index.IndexEngine.get_loc\u001b[1;34m()\u001b[0m\n",
      "\u001b[1;32mpandas\\_libs\\hashtable_class_helper.pxi\u001b[0m in \u001b[0;36mpandas._libs.hashtable.PyObjectHashTable.get_item\u001b[1;34m()\u001b[0m\n",
      "\u001b[1;32mpandas\\_libs\\hashtable_class_helper.pxi\u001b[0m in \u001b[0;36mpandas._libs.hashtable.PyObjectHashTable.get_item\u001b[1;34m()\u001b[0m\n",
      "\u001b[1;31mKeyError\u001b[0m: 'ADB'"
     ]
    }
   ],
   "source": [
    "db1.set_index([\"ADB\"],inplace=True,drop=False)"
   ]
  },
  {
   "cell_type": "code",
   "execution_count": null,
   "metadata": {},
   "outputs": [],
   "source": []
  }
 ],
 "metadata": {
  "kernelspec": {
   "display_name": "Python 3",
   "language": "python",
   "name": "python3"
  },
  "language_info": {
   "codemirror_mode": {
    "name": "ipython",
    "version": 3
   },
   "file_extension": ".py",
   "mimetype": "text/x-python",
   "name": "python",
   "nbconvert_exporter": "python",
   "pygments_lexer": "ipython3",
   "version": "3.6.5"
  }
 },
 "nbformat": 4,
 "nbformat_minor": 4
}
